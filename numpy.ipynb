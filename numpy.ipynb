{
  "cells": [
    {
      "cell_type": "markdown",
      "metadata": {
        "id": "view-in-github",
        "colab_type": "text"
      },
      "source": [
        "<a href=\"https://colab.research.google.com/github/Luiscal28/adivinanza/blob/main/numpy.ipynb\" target=\"_parent\"><img src=\"https://colab.research.google.com/assets/colab-badge.svg\" alt=\"Open In Colab\"/></a>"
      ]
    },
    {
      "cell_type": "code",
      "source": [
        "import numpy as np\n",
        "\n",
        "edades = [18 ,17, 16, 15, 22, 18,]\n",
        "edades_array = np.array(edades)\n",
        "#print(edades)\n",
        "#print(edades_array)\n",
        "#print(edades_array.dtype)\n",
        "#print(edades_array.shape)\n",
        "\n",
        "# birth_year=[]\n",
        "# for edad in edades:\n",
        "#   birth_year.append(2024-edad)\n",
        "#   print(birth_year)\n",
        "\n",
        "birth_year_array = 2024 - edades_array\n",
        "print(birth_year_array)"
      ],
      "metadata": {
        "id": "LAXGS1XDDT_-",
        "outputId": "c090d92d-5d7e-4491-cdbb-7949939eaa91",
        "colab": {
          "base_uri": "https://localhost:8080/"
        }
      },
      "execution_count": 5,
      "outputs": [
        {
          "output_type": "stream",
          "name": "stdout",
          "text": [
            "[2006 2007 2008 2009]\n"
          ]
        }
      ]
    },
    {
      "cell_type": "code",
      "source": [
        "n = np.array([[1, 2, 3],\n",
        "             [4, 5, 6],\n",
        "             [7, 8, 9]])\n",
        "print(n)\n",
        "print(n.shape)\n",
        "print(n[1][0])"
      ],
      "metadata": {
        "id": "HAFQY-SAGN7f",
        "outputId": "26029ad9-eaef-43a9-eb18-2f3a2a3a6940",
        "colab": {
          "base_uri": "https://localhost:8080/"
        }
      },
      "execution_count": 13,
      "outputs": [
        {
          "output_type": "stream",
          "name": "stdout",
          "text": [
            "[[1 2 3]\n",
            " [4 5 6]\n",
            " [7 8 9]]\n",
            "(3, 3)\n",
            "4\n"
          ]
        }
      ]
    },
    {
      "cell_type": "code",
      "source": [
        "edades = [18 ,17, 16, 15, 22, 18, 19]\n",
        "edades_array = np.array(edades)\n",
        "mayores_de_edad = edades_array >= 18\n",
        "print(mayores_de_edad)"
      ],
      "metadata": {
        "id": "i6gy1_lrIV1l",
        "outputId": "2ff31a32-405b-44d9-e5d1-b5de11de39ba",
        "colab": {
          "base_uri": "https://localhost:8080/"
        }
      },
      "execution_count": 15,
      "outputs": [
        {
          "output_type": "stream",
          "name": "stdout",
          "text": [
            "[ True False False False  True  True  True]\n"
          ]
        }
      ]
    },
    {
      "cell_type": "code",
      "source": [
        "import numpy as np\n",
        "recipes = np.genfromtxt(\"/content/recipes.csv\", delimiter=\",\")\n",
        "# print(recipes)\n",
        "# print(recipes.dtype)\n",
        "# print(recipes.shape)\n",
        "eggs = recipes[:, 2]\n",
        "print(eggs[eggs==1])\n",
        "\n",
        "cupcakes = 2 * recipes[0,:]\n",
        "coockies = recipes [2,:]\n",
        "\n",
        "grocery_list = cupcakes + coockies\n",
        "print(grocery_list)"
      ],
      "metadata": {
        "id": "o6KUoJoiLiki",
        "outputId": "23311900-d686-4ec3-9f6c-b8f962b8a277",
        "colab": {
          "base_uri": "https://localhost:8080/"
        }
      },
      "execution_count": 25,
      "outputs": [
        {
          "output_type": "stream",
          "name": "stdout",
          "text": [
            "[1. 1.]\n",
            "[6.75 3.   5.   2.   2.  ]\n"
          ]
        }
      ]
    },
    {
      "cell_type": "code",
      "source": [
        "a= np. zeros (10)\n",
        "print (a)\n",
        "b = np. ones (10)\n",
        "print (b)\n",
        "c = np. empty (10)\n",
        "print (c)\n",
        "print (b + c)"
      ],
      "metadata": {
        "id": "DrXO7qwmMoh5",
        "outputId": "80d49593-1a26-48ec-bf97-4c2cb904c846",
        "colab": {
          "base_uri": "https://localhost:8080/"
        }
      },
      "execution_count": 26,
      "outputs": [
        {
          "output_type": "stream",
          "name": "stdout",
          "text": [
            "[0. 0. 0. 0. 0. 0. 0. 0. 0. 0.]\n",
            "[1. 1. 1. 1. 1. 1. 1. 1. 1. 1.]\n",
            "[1. 1. 1. 1. 1. 1. 1. 1. 1. 1.]\n",
            "[2. 2. 2. 2. 2. 2. 2. 2. 2. 2.]\n"
          ]
        }
      ]
    }
  ],
  "metadata": {
    "colab": {
      "name": "Te damos la bienvenida a Colaboratory",
      "provenance": [],
      "include_colab_link": true
    },
    "kernelspec": {
      "display_name": "Python 3",
      "name": "python3"
    }
  },
  "nbformat": 4,
  "nbformat_minor": 0
}