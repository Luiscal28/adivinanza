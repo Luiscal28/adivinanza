{
  "cells": [
    {
      "cell_type": "markdown",
      "metadata": {
        "id": "view-in-github",
        "colab_type": "text"
      },
      "source": [
        "<a href=\"https://colab.research.google.com/github/Luiscal28/adivinanza/blob/main/adivinanza.ipynb\" target=\"_parent\"><img src=\"https://colab.research.google.com/assets/colab-badge.svg\" alt=\"Open In Colab\"/></a>"
      ]
    },
    {
      "source": [
        "import random\n",
        "import string\n",
        "import time\n",
        "from IPython.display import clear_output\n",
        "\n",
        "def generate_random_matrix(n, random_char):\n",
        "  matrix = []\n",
        "  for i in range(n):\n",
        "    row = []\n",
        "    for j in range(n):\n",
        "      random_char = random.choice(string.ascii_letters + string.digits)\n",
        "      row.append(random_char)\n",
        "    matrix.append(row)\n",
        "  return matrix\n",
        "\n",
        "def show_board(random_matrix):\n",
        "   for row in random_matrix:\n",
        "    for element in row:\n",
        "         print(element, end=\" \")\n",
        "    print()\n",
        "\n",
        "def hide_value(random_matrix):\n",
        "  max = len(random_matrix)-1\n",
        "  row=random.randint(0, max)\n",
        "  column=random.randint(0, max)\n",
        "  secret_value = random_matrix[row][column]\n",
        "  random_matrix[row][column] = \"?\"\n",
        "  return secret_value, random_matrix\n",
        "\n",
        "def play_game(n, random_char):\n",
        "   random_matrix = generate_random_matrix(n, random_char)\n",
        "   show_board(random_matrix)\n",
        "   time.sleep(3)\n",
        "   clear_output(wait=True)\n",
        "   secret_value, random_matrix = hide_value(random_matrix)\n",
        "   show_board(random_matrix)\n",
        "   escondido = input(\"¿Qué caracter crees que fue escondido?: \")\n",
        "\n",
        "   if escondido == secret_value:\n",
        "      print(\"¡Ganaste!, Felicitaciones por completar el juego.\")\n",
        "   else:\n",
        "     print(\"Perdiste. El número escondido era\", secret_value)\n",
        "\n",
        "def main():\n",
        "    print(\"Bienvenido\")\n",
        "    n = int(input(\"ingrese el tamaño de la tabla: \"))\n",
        "    random_char = random.choice(string.ascii_letters + string.digits)\n",
        "    play_game(n, random_char)\n",
        "    while True:\n",
        "        play_again = input(\"¿Quieres jugar de nuevo? (s/n): \").lower()\n",
        "        if play_again != 's':\n",
        "            break\n",
        "        play_game(random_char = random.choice(string.ascii_letters + string.digits))\n",
        "\n",
        "if __name__ == \"__main__\":\n",
        "    main()"
      ],
      "cell_type": "code",
      "metadata": {
        "id": "qvfEtyCIBV4P",
        "outputId": "190d225f-a6bd-4612-cb0c-250770d36e9f",
        "colab": {
          "base_uri": "https://localhost:8080/"
        }
      },
      "execution_count": 11,
      "outputs": [
        {
          "name": "stdout",
          "output_type": "stream",
          "text": [
            "4 e H x 5 \n",
            "y w 9 f r \n",
            "X 8 w H Q \n",
            "I W t r ? \n",
            "Z d z 3 S \n",
            "¿Qué caracter crees que fue escondido?: k\n",
            "Perdiste. El número escondido era i\n",
            "¿Quieres jugar de nuevo? (s/n): n\n"
          ]
        }
      ]
    },
    {
      "cell_type": "code",
      "source": [],
      "metadata": {
        "id": "eNJCS4mEArW-"
      },
      "execution_count": null,
      "outputs": []
    }
  ],
  "metadata": {
    "colab": {
      "name": "Te damos la bienvenida a Colaboratory",
      "provenance": [],
      "include_colab_link": true
    },
    "kernelspec": {
      "display_name": "Python 3",
      "name": "python3"
    }
  },
  "nbformat": 4,
  "nbformat_minor": 0
}